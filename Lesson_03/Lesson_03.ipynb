{
 "cells": [
  {
   "cell_type": "markdown",
   "id": "12070618-3bfa-4ed1-87d2-011046a97d2f",
   "metadata": {},
   "source": [
    "# Lesson 03"
   ]
  },
  {
   "cell_type": "markdown",
   "id": "bfae596b-b69f-435b-8304-ced11dd5ff1d",
   "metadata": {},
   "source": [
    "## Functions\n",
    "\n",
    "Functions are pieces of code that you write once and then you can run whenever you want. They are essentially new commands you can define. They allow you not to repeat code."
   ]
  },
  {
   "cell_type": "code",
   "execution_count": 4,
   "id": "e0b4cb0f-af05-49ae-985a-337eb73da576",
   "metadata": {},
   "outputs": [
    {
     "name": "stdout",
     "output_type": "stream",
     "text": [
      "this function will print 2 lines of text\n",
      "every time it is called\n",
      "\n",
      "this function will print 2 lines of text\n",
      "every time it is called\n"
     ]
    }
   ],
   "source": [
    "def my_printing_function():\n",
    "    print(\"this function will print 2 lines of text\")\n",
    "    print(\"every time it is called\")\n",
    "\n",
    "my_printing_function()\n",
    "print()\n",
    "my_printing_function()"
   ]
  },
  {
   "cell_type": "markdown",
   "id": "f77b552c-45ee-4e04-86a7-226e9d7dc50d",
   "metadata": {},
   "source": [
    "Take a look at the syntax: \n",
    "- `def` for define, for python to know that what comes next is a function\n",
    "- the name of the function\n",
    "- `()` shows that this function doesn't take any arguments\n",
    "- `:` and indent\n",
    "\n",
    "Functions can take arguments. These are inputs, essentially variables that the function will use without knowing from beforehand what they are."
   ]
  },
  {
   "cell_type": "code",
   "execution_count": 7,
   "id": "747a80f3-0a6d-48da-a7a8-e58c74e684c0",
   "metadata": {},
   "outputs": [
    {
     "name": "stdout",
     "output_type": "stream",
     "text": [
      "the sum of the numbers is: 5\n",
      "the sum of the numbers is: 15\n"
     ]
    }
   ],
   "source": [
    "def print_sum(my_number, my_other_number):\n",
    "    sum_of_numbers = my_number + my_other_number\n",
    "    print(\"the sum of the numbers is: \" + str(sum_of_numbers))\n",
    "\n",
    "print_sum(2, 3)\n",
    "print_sum(14, 1)"
   ]
  },
  {
   "cell_type": "markdown",
   "id": "a9f729fe-51fc-4bb7-845b-37ed511ea286",
   "metadata": {},
   "source": [
    "The only difference in the syntax when the funciton has arguments is that inside the parenthesis we are writing variable names separated by commas. These variables then are set as whatever arguments we call the function with.\n",
    "\n",
    "We can give default values to arguments with the `=` sign. If the function is called with a value for that argument it will use it, otherwise it will use the default."
   ]
  },
  {
   "cell_type": "code",
   "execution_count": 8,
   "id": "e7cb53fb-c1a1-4304-9e8b-007c1ded469c",
   "metadata": {},
   "outputs": [
    {
     "name": "stdout",
     "output_type": "stream",
     "text": [
      "in 2030, Vasiliki will be 32 years old\n",
      "in 2028, Ermis will be 28 years old\n",
      "in 2025, Ece will be 27 years old\n"
     ]
    }
   ],
   "source": [
    "def print_age(name, current_year = 2025, year_of_birth = 2000):\n",
    "    age = current_year - year_of_birth\n",
    "    print(\"in \" + str(current_year) + \", \" + name + \" will be \" + str(age) + \" years old\")\n",
    "\n",
    "print_age(\"Vasiliki\", 2030, 1998)\n",
    "print_age(\"Ermis\", 2028)\n",
    "print_age(\"Ece\", year_of_birth = 1998)"
   ]
  },
  {
   "cell_type": "markdown",
   "id": "038643d8-2658-45e7-8933-4642b07c1fbc",
   "metadata": {},
   "source": [
    "You can call a function with the default arguments by using the name of the argument and the `=` sign, or simply the position. \n",
    "\n",
    "<font color='red'> ⚠ NOTE </font> You can never include an argument without a default value AFTER an argument with a default value.\n",
    "`def my_function(a=1, b)` is <font color='red'> illegal </font>\n",
    "\n",
    "\n",
    "Just like functions have inputs, they have outputs as well. You can use `return()` to make your function output something. The main use of functions is then to act like a “black box”, where you write the code once, then you provide the input you want and it manipulates it and provides the output. "
   ]
  },
  {
   "cell_type": "code",
   "execution_count": 13,
   "id": "3de54f1b-a37f-4f7d-834f-295bb094481e",
   "metadata": {},
   "outputs": [
    {
     "name": "stdout",
     "output_type": "stream",
     "text": [
      "160.0\n",
      "62.0\n"
     ]
    }
   ],
   "source": [
    "def my_discount_calculator(original_price, discount_percent = 15):\n",
    "    new_price = original_price * (1 - (discount_percent/100))\n",
    "    return(new_price)\n",
    "\n",
    "print(my_discount_calculator(200, 20))\n",
    "\n",
    "price_with_VAT = my_discount_calculator(100, 50) + 12\n",
    "print(price_with_VAT)"
   ]
  },
  {
   "cell_type": "markdown",
   "id": "87d55ff2-913b-4d8f-af17-c15a53a77334",
   "metadata": {},
   "source": [
    "`return()` will stop the function from running. Any code after `return` will not be run."
   ]
  },
  {
   "cell_type": "code",
   "execution_count": 14,
   "id": "aa41f956-4798-422a-9461-a7eda1d1a464",
   "metadata": {},
   "outputs": [
    {
     "name": "stdout",
     "output_type": "stream",
     "text": [
      "this will print\n",
      "True\n"
     ]
    }
   ],
   "source": [
    "def after_return():\n",
    "    print(\"this will print\")\n",
    "    return(True)\n",
    "    print(\"this will not print\")\n",
    "\n",
    "print(after_return())"
   ]
  },
  {
   "cell_type": "markdown",
   "id": "5d1ffdcf-21de-41b6-980d-444e5cb42c07",
   "metadata": {},
   "source": [
    "You can also return multiple things!"
   ]
  },
  {
   "cell_type": "code",
   "execution_count": 15,
   "id": "1afc1c28-4fb6-48ab-b08e-54f1331753da",
   "metadata": {},
   "outputs": [
    {
     "name": "stdout",
     "output_type": "stream",
     "text": [
      "1\n",
      "2\n"
     ]
    }
   ],
   "source": [
    "def multi_return():\n",
    "    return(1, 2)\n",
    "\n",
    "my_val, my_val2 = multi_return()\n",
    "print(my_val)\n",
    "print(my_val2)"
   ]
  },
  {
   "cell_type": "markdown",
   "id": "962faac1-a61b-429a-8aac-b42c578158dc",
   "metadata": {},
   "source": [
    "## Dictionaries\n",
    "\n",
    "My favourite data type is dictionaries. They are collections of elements like lists, but instead of having a number index, they have a key, which is usually a string."
   ]
  },
  {
   "cell_type": "code",
   "execution_count": 30,
   "id": "8306d418-e6fa-4c77-ae10-eb677e403ace",
   "metadata": {},
   "outputs": [
    {
     "name": "stdout",
     "output_type": "stream",
     "text": [
      "Giorgos\n",
      "25\n"
     ]
    }
   ],
   "source": [
    "my_dictionary = {\"name\":\"Giorgos\", \"age\": 25, \"favourite_colour\":\"#ec5400\"}\n",
    "print(my_dictionary[\"name\"])\n",
    "print(my_dictionary[\"age\"])"
   ]
  },
  {
   "cell_type": "markdown",
   "id": "968213dc-5adc-4783-8cd5-56aca39b9b54",
   "metadata": {},
   "source": [
    "During the definition of a string you use `{}` to state that what you're defining is a dictionary, and then you use the syntax `key:value`\n",
    "\n",
    "You can set new key-value pairs or re-define old ones like setting a variable:"
   ]
  },
  {
   "cell_type": "code",
   "execution_count": 33,
   "id": "17307ed8-e983-47b8-9dec-d8aacb9e4ce8",
   "metadata": {},
   "outputs": [
    {
     "name": "stdout",
     "output_type": "stream",
     "text": [
      "{'name': 'Giorgos', 'age': 25, 'favourite_colour': '#66b2b2', 'nationality': 'Greek'}\n"
     ]
    }
   ],
   "source": [
    "my_dictionary[\"favourite_colour\"] = \"#66b2b2\"\n",
    "my_dictionary[\"nationality\"] = \"Greek\"\n",
    "print(my_dictionary)"
   ]
  },
  {
   "cell_type": "markdown",
   "id": "4dbd9ce4-abfa-4e03-89dc-80833c27cd23",
   "metadata": {},
   "source": [
    "Looping through a dictionary will normally loop through the keys, but you can loop through the values or the key-value pairs if you want:"
   ]
  },
  {
   "cell_type": "code",
   "execution_count": 36,
   "id": "2085dfd4-1ead-44d9-823b-fa40026853f7",
   "metadata": {},
   "outputs": [
    {
     "name": "stdout",
     "output_type": "stream",
     "text": [
      "first\n",
      "second\n",
      "third\n",
      "\n",
      "1\n",
      "2\n",
      "3\n",
      "\n",
      "the key is first and the value is 1\n",
      "the key is second and the value is 2\n",
      "the key is third and the value is 3\n"
     ]
    }
   ],
   "source": [
    "my_small_dict = {\"first\":1, \"second\":2, \"third\":3}\n",
    "for key in my_small_dict:\n",
    "    print(key)\n",
    "print()\n",
    "for value in my_small_dict.values():\n",
    "    print(value)\n",
    "print()\n",
    "for key, value in my_small_dict.items():\n",
    "    print(f\"the key is {key} and the value is {value}\")"
   ]
  },
  {
   "cell_type": "markdown",
   "id": "d9875ea8-91e6-4212-8c40-9a471d3d6b33",
   "metadata": {},
   "source": [
    "## More things you can do with what you know"
   ]
  },
  {
   "cell_type": "markdown",
   "id": "0ee8ac99-4837-4d56-8b3f-d5801e440d99",
   "metadata": {},
   "source": [
    "### Slices\n",
    "When you have an iterable, you can take a small subsection of it using `:`. For example"
   ]
  },
  {
   "cell_type": "code",
   "execution_count": 17,
   "id": "fc620320-76eb-4119-a197-d616228f903c",
   "metadata": {},
   "outputs": [
    {
     "name": "stdout",
     "output_type": "stream",
     "text": [
      "d3\n",
      "['d3', 'e4', 'f5']\n",
      "['a0', 'b1', 'c2']\n",
      "['b1', 'c2', 'd3']\n"
     ]
    }
   ],
   "source": [
    "my_list = [\"a0\",\"b1\",\"c2\",\"d3\",\"e4\",\"f5\"]\n",
    "print(my_list[3])\n",
    "print(my_list[3:])\n",
    "print(my_list[:3])\n",
    "print(my_list[1:4])"
   ]
  },
  {
   "cell_type": "markdown",
   "id": "dc4ce07e-25a0-462f-8d31-ae1d8ec0bbae",
   "metadata": {},
   "source": [
    "### Last element of list\n",
    "You can access the last element of a list using negative indexes. For example:"
   ]
  },
  {
   "cell_type": "code",
   "execution_count": 18,
   "id": "bd966e20-ed5f-4328-a3fb-cc36918f9c66",
   "metadata": {},
   "outputs": [
    {
     "name": "stdout",
     "output_type": "stream",
     "text": [
      "f5\n",
      "d3\n"
     ]
    }
   ],
   "source": [
    "print(my_list[-1])\n",
    "print(my_list[-3])"
   ]
  },
  {
   "cell_type": "markdown",
   "id": "77be835b-a68d-4f3f-a10c-0ef69f534aef",
   "metadata": {},
   "source": [
    "### Format strings\n",
    "\n",
    "Changing all the values to `str` every time can be cumbersome. Python offers a way to format a string with values, converting to string every variable given. These are called fstrings, and their syntax is like this:"
   ]
  },
  {
   "cell_type": "code",
   "execution_count": 19,
   "id": "77f711e8-0a5e-40cc-971d-f41a14d6ca40",
   "metadata": {},
   "outputs": [
    {
     "name": "stdout",
     "output_type": "stream",
     "text": [
      "my value is 3 and it's great\n"
     ]
    }
   ],
   "source": [
    "my_value = 3\n",
    "print(f\"my value is {my_value} and it's great\")"
   ]
  },
  {
   "cell_type": "markdown",
   "id": "19c3a691-9959-4a4b-a7a1-af6ab2215a71",
   "metadata": {},
   "source": [
    "you start with an `f` before the `\"`, and then whenever you want to add a variable that will be converted to string, use `{}`."
   ]
  },
  {
   "cell_type": "markdown",
   "id": "796980c8-3f53-4e75-bdf7-c2ca5531aca2",
   "metadata": {},
   "source": [
    "### Split string\n",
    "You can turn a string into a list using `.split()`. This splits a string on every space and then returns a list with each word:"
   ]
  },
  {
   "cell_type": "code",
   "execution_count": 21,
   "id": "2273cfb8-575d-4a2c-bacd-f13acaee1be7",
   "metadata": {},
   "outputs": [
    {
     "name": "stdout",
     "output_type": "stream",
     "text": [
      "['hello,', 'my', 'name', 'is', 'Inigo', 'Montoya']\n"
     ]
    }
   ],
   "source": [
    "my_sentence = \"hello, my name is Inigo Montoya\"\n",
    "my_words_list = my_sentence.split()\n",
    "print(my_words_list)"
   ]
  },
  {
   "cell_type": "markdown",
   "id": "a953a039-5c23-4af0-a65b-19e016ae0277",
   "metadata": {},
   "source": [
    "note that this deletes the spaces. You can also split in places other than the spaces by adding it as an argument to `.split()`. So for example splititng on the comma:"
   ]
  },
  {
   "cell_type": "code",
   "execution_count": 22,
   "id": "6c44711a-c3e7-4974-b17a-7fd316787023",
   "metadata": {},
   "outputs": [
    {
     "name": "stdout",
     "output_type": "stream",
     "text": [
      "['hello', ' my name is Inigo Montoya']\n"
     ]
    }
   ],
   "source": [
    "my_clauses = my_sentence.split(\",\")\n",
    "print(my_clauses)"
   ]
  },
  {
   "cell_type": "markdown",
   "id": "f6f63227-8171-4623-89eb-5dbcef5c2910",
   "metadata": {},
   "source": [
    "### Removing items from list\n",
    "You can remove an item from a list in two ways: `.remove(item)` or `.pop(index)`. The first removes an item from a list, the second removes and returns the item in a specific position:"
   ]
  },
  {
   "cell_type": "code",
   "execution_count": 23,
   "id": "5227310d-f393-4cca-8ccc-6d3ba35da78d",
   "metadata": {},
   "outputs": [
    {
     "name": "stdout",
     "output_type": "stream",
     "text": [
      "['a0', 'b1', 'd3', 'e4', 'f5']\n",
      "\n",
      "my list is now ['a0', 'd3', 'e4', 'f5'] because I popped b1\n"
     ]
    }
   ],
   "source": [
    "my_list = [\"a0\",\"b1\",\"c2\",\"d3\",\"e4\",\"f5\"]\n",
    "my_list.remove(\"c2\")\n",
    "print(my_list)\n",
    "print()\n",
    "my_popped_item = my_list.pop(1)\n",
    "print(f\"my list is now {my_list} because I popped {my_popped_item}\")"
   ]
  },
  {
   "cell_type": "markdown",
   "id": "f5c28662-a6d1-4e5d-99af-157f22cdc5a4",
   "metadata": {},
   "source": [
    "### Sort lists\n",
    "You can easily sort lists with `.sort()`. This will sort numbers from lower to higher, and strings alphabetically:"
   ]
  },
  {
   "cell_type": "code",
   "execution_count": 26,
   "id": "81de327b-0c0f-457b-8c92-4b91bc5c8cfa",
   "metadata": {},
   "outputs": [
    {
     "name": "stdout",
     "output_type": "stream",
     "text": [
      "[0, 1, 2, 3, 4]\n"
     ]
    }
   ],
   "source": [
    "my_numbers_list = [1, 0, 4, 2, 3]\n",
    "my_numbers_list.sort()\n",
    "print(my_numbers_list)"
   ]
  },
  {
   "cell_type": "markdown",
   "id": "2f2dc622-5fbb-499a-9a9a-793047f5e86f",
   "metadata": {},
   "source": [
    "You can also do it in reverse:"
   ]
  },
  {
   "cell_type": "code",
   "execution_count": 27,
   "id": "9305bd6d-cbec-4587-80e4-ceb39916827f",
   "metadata": {},
   "outputs": [
    {
     "name": "stdout",
     "output_type": "stream",
     "text": [
      "[4, 3, 2, 1, 0]\n"
     ]
    }
   ],
   "source": [
    "my_numbers_list.sort(reverse = True)\n",
    "print(my_numbers_list)"
   ]
  },
  {
   "cell_type": "markdown",
   "id": "f25bf5e5-ecb3-4f58-bfa4-4af792cac027",
   "metadata": {},
   "source": [
    "### And so much more!\n",
    "\n",
    "Generally, there is a lot of functionality already implemented in all of these data types. If you want to do something with them that isn't super specific to what you're making, chances are there already is a way to do it automatically!\n",
    "\n",
    "You can code everything yourself of course with what you know already, but making sure you're not reinventing the wheel is worth a quick google."
   ]
  }
 ],
 "metadata": {
  "kernelspec": {
   "display_name": "Python 3 (ipykernel)",
   "language": "python",
   "name": "python3"
  },
  "language_info": {
   "codemirror_mode": {
    "name": "ipython",
    "version": 3
   },
   "file_extension": ".py",
   "mimetype": "text/x-python",
   "name": "python",
   "nbconvert_exporter": "python",
   "pygments_lexer": "ipython3",
   "version": "3.12.3"
  }
 },
 "nbformat": 4,
 "nbformat_minor": 5
}
