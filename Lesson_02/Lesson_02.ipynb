{
 "cells": [
  {
   "cell_type": "markdown",
   "id": "95cc40b4-47aa-4be0-a25b-f6d1820ca9f2",
   "metadata": {},
   "source": [
    "# Lesson 02"
   ]
  },
  {
   "cell_type": "markdown",
   "id": "94f5c769-d305-42f3-b37d-a1f909930fee",
   "metadata": {},
   "source": [
    "## Lists\n",
    "\n",
    "A list is another data type. Lists are used to contain multiple different elements. They are defined using the `[]`, and the values are separated with `,`. Here is an example:"
   ]
  },
  {
   "cell_type": "code",
   "execution_count": 1,
   "id": "e269b5b5-847d-48d3-a85b-62af4d9f2eb9",
   "metadata": {},
   "outputs": [],
   "source": [
    "my_favourite_numbers = [27, 42, 3]"
   ]
  },
  {
   "cell_type": "markdown",
   "id": "c9fbd464-5ad4-4fea-ba42-7bfcf77b8c55",
   "metadata": {},
   "source": [
    "This list has three elements in it, these elements are `int`s. You can access each element from inside the list by using `[]` at the end of it:"
   ]
  },
  {
   "cell_type": "code",
   "execution_count": 2,
   "id": "c8c432da-41cf-4a72-8ddc-16f3bb2c5a86",
   "metadata": {},
   "outputs": [
    {
     "name": "stdout",
     "output_type": "stream",
     "text": [
      "42\n"
     ]
    }
   ],
   "source": [
    "print(my_favourite_numbers[1])"
   ]
  },
  {
   "cell_type": "markdown",
   "id": "935a5d5a-f54f-4026-a23d-d057b505771b",
   "metadata": {},
   "source": [
    "The above statement says “print the first element in the list”. But wait, we printed 42 instead of 27! This is because in python, the first number is 0! So if we wanted to print 27, we'd need to print the zeroth element in the list:"
   ]
  },
  {
   "cell_type": "code",
   "execution_count": 3,
   "id": "f4fc6b59-f1ba-4bde-85b3-028addd9fe40",
   "metadata": {},
   "outputs": [
    {
     "name": "stdout",
     "output_type": "stream",
     "text": [
      "27\n"
     ]
    }
   ],
   "source": [
    "print(my_favourite_numbers[0])"
   ]
  },
  {
   "cell_type": "markdown",
   "id": "28fc138a-8209-40be-b628-3bd4ee025136",
   "metadata": {},
   "source": [
    "You can also add elements to the end of the list after its creation using `.append()`:"
   ]
  },
  {
   "cell_type": "code",
   "execution_count": 4,
   "id": "a3b277ec-a9a5-45b4-b2fc-e11f1da13eb1",
   "metadata": {},
   "outputs": [
    {
     "name": "stdout",
     "output_type": "stream",
     "text": [
      "[27, 42, 3, 4]\n"
     ]
    }
   ],
   "source": [
    "my_favourite_numbers.append(4)\n",
    "print(my_favourite_numbers)"
   ]
  },
  {
   "cell_type": "markdown",
   "id": "6fe935f0-0986-4612-b30a-357a27757204",
   "metadata": {},
   "source": [
    "And you can change elements within a list by accessing them and defining them like variables:"
   ]
  },
  {
   "cell_type": "code",
   "execution_count": 5,
   "id": "c1a325a4-09f7-4f77-9d14-d604b41cc910",
   "metadata": {},
   "outputs": [
    {
     "name": "stdout",
     "output_type": "stream",
     "text": [
      "[27, 42, 12, 4]\n"
     ]
    }
   ],
   "source": [
    "my_favourite_numbers[2] = 12\n",
    "print(my_favourite_numbers)"
   ]
  },
  {
   "cell_type": "markdown",
   "id": "7d12727b-da2b-4214-b7e6-6cdbdcbafd23",
   "metadata": {},
   "source": [
    "Lists belong in a family of data types called iterables, meaning a data type that contains multiple elements. The other iterable we've seen are strings! Strings contain multiple different characters that can be accessed the same way like the elements of a list."
   ]
  },
  {
   "cell_type": "code",
   "execution_count": 6,
   "id": "a82a9645-8f32-47d4-bff7-606ba0247ea5",
   "metadata": {},
   "outputs": [
    {
     "name": "stdout",
     "output_type": "stream",
     "text": [
      "E\n"
     ]
    }
   ],
   "source": [
    "print(\"Ermis\"[0])"
   ]
  },
  {
   "cell_type": "markdown",
   "id": "acaae16e-234d-482c-8d9e-60c14c4d3498",
   "metadata": {},
   "source": [
    "Lists can contain different data types, and even other lists!"
   ]
  },
  {
   "cell_type": "code",
   "execution_count": 7,
   "id": "8c50a5e3-9a8e-443a-b6a8-6816cee6479c",
   "metadata": {},
   "outputs": [
    {
     "name": "stdout",
     "output_type": "stream",
     "text": [
      "[88, 'Louis Depon Dulac', [True, 0.8], -4]\n"
     ]
    }
   ],
   "source": [
    "my_mixed_list = [88, \"Louis Depon Dulac\", [True, 0.8], -4]\n",
    "print(my_mixed_list)"
   ]
  },
  {
   "cell_type": "markdown",
   "id": "3ae652d3-42fb-4e4f-9425-b1c8c3ca5e57",
   "metadata": {},
   "source": [
    "You can get the number of elements in a list (or other iterable) with `len()` (stands for length). "
   ]
  },
  {
   "cell_type": "code",
   "execution_count": 8,
   "id": "95b72b5f-f6c2-45a8-b158-65b110f1d84b",
   "metadata": {},
   "outputs": [
    {
     "data": {
      "text/plain": [
       "3"
      ]
     },
     "execution_count": 8,
     "metadata": {},
     "output_type": "execute_result"
    }
   ],
   "source": [
    "len([9, 12, \"hello\"])"
   ]
  },
  {
   "cell_type": "markdown",
   "id": "d6f71290-0dfc-4ce0-bc95-0a7cdf5cab73",
   "metadata": {},
   "source": [
    "## Conditionals\n",
    "\n",
    "Conditionals are statements that will output a boolean (`True`/`False`). They are very useful in controlling the flow of the program.\n",
    "\n",
    "A conditional is essentially a check. It's like asking “is this statement true?”"
   ]
  },
  {
   "cell_type": "code",
   "execution_count": 9,
   "id": "71abc5a2-e924-4997-b983-ac4dd6863ced",
   "metadata": {},
   "outputs": [
    {
     "data": {
      "text/plain": [
       "False"
      ]
     },
     "execution_count": 9,
     "metadata": {},
     "output_type": "execute_result"
    }
   ],
   "source": [
    "2>5"
   ]
  },
  {
   "cell_type": "code",
   "execution_count": 10,
   "id": "f6de2650-7e94-42ee-b172-c72fc6075193",
   "metadata": {},
   "outputs": [
    {
     "data": {
      "text/plain": [
       "True"
      ]
     },
     "execution_count": 10,
     "metadata": {},
     "output_type": "execute_result"
    }
   ],
   "source": [
    "6<9"
   ]
  },
  {
   "cell_type": "markdown",
   "id": "2efb385c-da1c-4203-8508-b8058430284c",
   "metadata": {},
   "source": [
    "There are several types of conditional statements you can use. Here are some useful ones:\n",
    "\n",
    "- `==` checks if two values are equal. `\"hello\" == \"hello\"` will resolve as `True`, while `1==0` will resolve as false. Note that `=` alone is used as assignment of variables, therefore if we want to check if two values are equal we need `==`. Important note: never use this with floating point numbers as it might result in errors.\n",
    "- `>` or `<` checks if the first value is bigger (in the first case) or smaller (in the second case) than the second value. for example `3 < 2` will resolve as `False`.\n",
    "- `<=` or `>=` check for “smaller or equal to” or “greater or equal to” respectively. `3 <= 5` and `3 <= 3` will both resolve as `True`.\n",
    "- `!=` checks if two values are **not** equal to each other. This is the oposite of `==`.\n",
    "\n",
    "Another, different conditional statement is `in`. `in` is used to check if a value is contained within an iterable. So for example, `3 in [4, 3, 7]` would return `True`, while `\"r\" in \"Vasiliki\"` would return `False`.\n",
    "\n",
    "You can also link conditionals togeather using keywords. These are:\n",
    "- `or` will return `True` if either of the conditionals is true. For example `(1 == 1) or (1 == 0)` will return `True`.\n",
    "- `and` will return `True` only if both the statements are `True`. `(1 > 0) and (1 < 2)` will return `True`.\n",
    "- `not` will return the oposite of the statement afterwards. So `not (2 == 2)` will return `False`.\n",
    "\n",
    "You can chain multiple of these togeather by using parentheses:\n",
    "```\n",
    "(1 != 0) and ((2 < 1) or (4 > 2))\n",
    "True and (False or True)\n",
    "```\n",
    "This will return `True`"
   ]
  },
  {
   "cell_type": "markdown",
   "id": "b2c023f6-bc62-4a6b-b0f3-bd7da66eb76c",
   "metadata": {},
   "source": [
    "## `if` statements\n",
    "\n",
    "Now, at some point the program is going to have to make decisions. This is done with `if` statements. `if` statements are followed by a conditional, and contain some code. If the conditional resolves to `True`, they run the code. If not, the code is skipped. Let's see some code first and then see how to write it:"
   ]
  },
  {
   "cell_type": "code",
   "execution_count": 11,
   "id": "b49b087d-a345-4c7d-a537-31ca4798700b",
   "metadata": {},
   "outputs": [
    {
     "name": "stdout",
     "output_type": "stream",
     "text": [
      "the number is positive!\n"
     ]
    }
   ],
   "source": [
    "my_favourite_number = 27\n",
    "\n",
    "if my_favourite_number >= 0:\n",
    "    print(\"the number is positive!\")\n",
    "\n",
    "if my_favourite_number == 69:\n",
    "    print(\"nice!\")#"
   ]
  },
  {
   "cell_type": "markdown",
   "id": "a384bc17-2a68-4db4-85fd-0870c8d41d26",
   "metadata": {},
   "source": [
    "We first define a number. Then if the number is greater or equal to 0, we say that this number is positive. If the number is exactly 69, we print out “nice!”. Since the number is positive, the first line will print, since the number isn't 69, the second line will not. \n",
    "\n",
    "Now let's look at the syntax:\n",
    "- First write `if`\n",
    "- Then write the conditional\n",
    "- At the end of the conditional you need to add `:` and then go to a new line\n",
    "- Then write the code that you want to run only if the condition is `True`. This code needs to be indented.\n",
    "- To exit the `if` statement, simply write the next line of code without an indent.\n",
    "\n",
    "An indent is an amount of whitespace between the start of the line and the code. You can add an indent using the `⭾TAB` key on your keyboard."
   ]
  },
  {
   "cell_type": "code",
   "execution_count": null,
   "id": "64b0fef5-5ca5-4a41-bc22-3fbd6be3c9d1",
   "metadata": {},
   "outputs": [],
   "source": [
    "if False:\n",
    "    print(\"this line will not print\")\n",
    "    print(\"neither will this\")\n",
    "print(\"this line is outside the if statement\")"
   ]
  },
  {
   "cell_type": "markdown",
   "id": "a7014348-9c09-4a67-a695-63a53c3153b9",
   "metadata": {},
   "source": [
    "If you want to check for multiple different cases, you can use `elif` (stands for else if) after the if statement. This will only run if the first clause of the if statement doesn't, but its condition is `True`:"
   ]
  },
  {
   "cell_type": "code",
   "execution_count": null,
   "id": "b58ca063-22bf-4c48-b2ad-3a2f9a74acf9",
   "metadata": {},
   "outputs": [],
   "source": [
    "if False:\n",
    "    print(\"this will not run\")\n",
    "elif True:\n",
    "    print(\"but this will!\")\n",
    "\n",
    "if True:\n",
    "    print(\"Now this will run\")\n",
    "elif True:\n",
    "    print(\"This will not run even if the condition is True, because the first one did\")"
   ]
  },
  {
   "cell_type": "markdown",
   "id": "3e42aa0b-ff08-4e72-b84a-ee1f9d45ec2f",
   "metadata": {},
   "source": [
    "You can chain as many `elif` statements as you want, but only one will run:"
   ]
  },
  {
   "cell_type": "code",
   "execution_count": 12,
   "id": "3f4a7c3c-d2ff-4024-bae4-c50919775cbe",
   "metadata": {},
   "outputs": [
    {
     "name": "stdout",
     "output_type": "stream",
     "text": [
      "C\n"
     ]
    }
   ],
   "source": [
    "if False:\n",
    "    print(\"A\")\n",
    "elif False:\n",
    "    print(\"B\")\n",
    "elif True: \n",
    "    print(\"C\")\n",
    "elif True:\n",
    "    print(\"D\")"
   ]
  },
  {
   "cell_type": "markdown",
   "id": "6fb9cd8a-a639-49c2-8375-104a67a705bc",
   "metadata": {},
   "source": [
    "Finally, if you want the last statement to run without a condition, just as long as the previous ones do not, you can just write `else`:"
   ]
  },
  {
   "cell_type": "code",
   "execution_count": 13,
   "id": "a0cba5da-10dc-45eb-9304-825b86dab353",
   "metadata": {},
   "outputs": [
    {
     "name": "stdout",
     "output_type": "stream",
     "text": [
      "C\n"
     ]
    }
   ],
   "source": [
    "if False:\n",
    "    print(\"A\")\n",
    "elif False:\n",
    "    print(\"B\")\n",
    "else:\n",
    "    print(\"C\")"
   ]
  },
  {
   "cell_type": "markdown",
   "id": "63a72c31-f442-454f-8fc2-6a9311ba3f74",
   "metadata": {},
   "source": [
    "## Loops\n",
    "\n",
    "Loops are used to run a specific segment of code multiple times. There are two kinds of loops: `for` and `while` loops.\n",
    "\n",
    "### `while` loops\n",
    "\n",
    "while loops are given a condition similar to if statements, and then keep runing the code until the condition isn't true."
   ]
  },
  {
   "cell_type": "code",
   "execution_count": 14,
   "id": "9b7d7e0a-9daf-490a-ba88-b74ff67e9850",
   "metadata": {},
   "outputs": [
    {
     "name": "stdout",
     "output_type": "stream",
     "text": [
      "0\n",
      "1\n",
      "2\n",
      "3\n",
      "4\n",
      "exited the loop\n"
     ]
    }
   ],
   "source": [
    "i = 0\n",
    "while i < 5:\n",
    "    print(i)\n",
    "    i = i + 1\n",
    "print(\"exited the loop\")"
   ]
  },
  {
   "cell_type": "markdown",
   "id": "0a8dc048-6b8f-4de7-9171-9c504ec0b17d",
   "metadata": {},
   "source": [
    "Like `if` statements, if the condition isn't true the first time, the code will not run:"
   ]
  },
  {
   "cell_type": "code",
   "execution_count": 16,
   "id": "5dc9aa53-9e04-40cf-ad4d-c423606c47f0",
   "metadata": {},
   "outputs": [
    {
     "name": "stdout",
     "output_type": "stream",
     "text": [
      "exited the loop\n"
     ]
    }
   ],
   "source": [
    "i = 10\n",
    "while i < 5:\n",
    "    print(i)\n",
    "    i = i + 1\n",
    "print(\"exited the loop\")"
   ]
  },
  {
   "cell_type": "markdown",
   "id": "a0ba30f1-f77b-4963-af29-9cb50d7eb9d7",
   "metadata": {},
   "source": [
    "<font color='red'> ⚠ NOTE </font> Be careful with while loops that never end. It's easy to create a loop who's condition will always be true, in which case your program will never exit the loop and will run until you stop it manually or it crashes."
   ]
  },
  {
   "cell_type": "markdown",
   "id": "26a97982-ed70-4873-8aad-a51edaf7e1e4",
   "metadata": {},
   "source": [
    "```",
    "while True:\n",
    "    # code in here will run forever\n",
    "# code here will never run\n",
    "```"
   ]
  },
  {
   "cell_type": "markdown",
   "id": "8ba02173-5380-4987-bafb-c51960e99990",
   "metadata": {},
   "source": [
    "### `for` loops\n",
    "\n",
    "`for` loops are the most commonly used loops. They allow you to run some code for each of the elements in an iterable.  "
   ]
  },
  {
   "cell_type": "code",
   "execution_count": 17,
   "id": "aa0a28fa-8ac3-472c-a403-b9a95e127ce1",
   "metadata": {},
   "outputs": [
    {
     "name": "stdout",
     "output_type": "stream",
     "text": [
      "hello, Ermis\n",
      "hello, Vasiliki\n",
      "hello, Giorgos\n"
     ]
    }
   ],
   "source": [
    "names_list = [\"Ermis\", \"Vasiliki\", \"Giorgos\"]\n",
    "for name in names_list:\n",
    "    print(\"hello, \" + name)"
   ]
  },
  {
   "cell_type": "markdown",
   "id": "5c92409b-d5c3-4371-939f-ae978dafae18",
   "metadata": {},
   "source": [
    "So what happens here:\n",
    "- First comes the `for`\n",
    "- Then you need to give a name to the element you'll be looking at each time. (here `name`)\n",
    "- Then you'll need the `in` keyword\n",
    "- Then the iterable you'll be iterating over (eg the list)\n",
    "- Finally `:`, and starting the next line with an indentation\n",
    "\n",
    "A very useful thing that goes hand in hand with `for` loops is `range()`. `range()` creates an iterable of ints that go up by one each step. For example `range(4)` will create an iterable with elements 0, 1, 2, and 3. With a loop it will look like this:"
   ]
  },
  {
   "cell_type": "code",
   "execution_count": 20,
   "id": "d1ac3dff-e305-4893-b5f1-1f58ecdb3371",
   "metadata": {},
   "outputs": [
    {
     "name": "stdout",
     "output_type": "stream",
     "text": [
      "0\n",
      "1\n",
      "2\n",
      "3\n"
     ]
    }
   ],
   "source": [
    "for i in range(4):\n",
    "    print(i)"
   ]
  },
  {
   "cell_type": "markdown",
   "id": "3a8e5a0b-575d-49b8-b110-ba8e664420f9",
   "metadata": {},
   "source": [
    "### Exiting loops early\n",
    "\n",
    "You can always exit a loop before its completion using the `break` keyword."
   ]
  },
  {
   "cell_type": "code",
   "execution_count": 21,
   "id": "0c8d124f-4019-469f-8090-a363fc32cca8",
   "metadata": {},
   "outputs": [
    {
     "name": "stdout",
     "output_type": "stream",
     "text": [
      "Hello Ermis, have you seen Carmen Sandiego?\n",
      "Hello Vasiliki, have you seen Carmen Sandiego?\n",
      "Found you!\n"
     ]
    }
   ],
   "source": [
    "names_list = [\"Ermis\", \"Vasiliki\", \"Carmen Sandiego\", \"Ece\", \"Giorgos\"]\n",
    "for name in names_list:\n",
    "    if name == \"Carmen Sandiego\":\n",
    "        print(\"Found you!\")\n",
    "        break\n",
    "    else:\n",
    "        print(\"Hello \" + name + \", have you seen Carmen Sandiego?\")"
   ]
  },
  {
   "cell_type": "markdown",
   "id": "c7133cad-2ac0-475a-86b8-7afb0ec7234d",
   "metadata": {},
   "source": [
    "## Excersises:\n",
    "\n",
    "### Excersise 1:\n",
    "Write a program that keeps asking the user for inputs until the user gives the word END as input. Afterwards, the program should print out each input the user gave and state if that input has the letter `k` inside. Here's an example of what the outlook might look like:"
   ]
  },
  {
   "cell_type": "markdown",
   "id": "1e37efe1-1906-4fff-9244-0094401d05cf",
   "metadata": {},
   "source": [
    "```",
    "Please give input > hello\n",
    "Please give input > my second input\n",
    "Please give input > kokkorogiannis\n",
    "Please give input > END\n",
    "hello does not contain a k\n",
    "my second input does not contain a k\n",
    "kokkorogiannis contains a k\n",
    "```"
   ]
  },
  {
   "cell_type": "markdown",
   "id": "64fd7fc5-f180-4b0b-98f0-2544c068a930",
   "metadata": {},
   "source": [
    "### Excersise 2:\n",
    "\n",
    "The fibonacci sequence is defined as follows:\n",
    "> The first two numbers are 0 and 1. Then each following number is the sum of the two numbers before it.\n",
    "\n",
    "So the first 6 numbers of the fibonacci sequence are 0, 1, 1, 2, 3, 5 ...\n",
    "\n",
    "Write a script that takes a number as an input and then calculates and prints that many numbers from the fibonacci sequence."
   ]
  }
 ],
 "metadata": {
  "kernelspec": {
   "display_name": "Python 3 (ipykernel)",
   "language": "python",
   "name": "python3"
  },
  "language_info": {
   "codemirror_mode": {
    "name": "ipython",
    "version": 3
   },
   "file_extension": ".py",
   "mimetype": "text/x-python",
   "name": "python",
   "nbconvert_exporter": "python",
   "pygments_lexer": "ipython3",
   "version": "3.12.3"
  }
 },
 "nbformat": 4,
 "nbformat_minor": 5
}
