{
 "cells": [
  {
   "cell_type": "markdown",
   "id": "e531b83d-f645-4fbf-af5b-d0d12c9a40a8",
   "metadata": {},
   "source": [
    "# Lesson 01"
   ]
  },
  {
   "cell_type": "markdown",
   "id": "06f38f9a-88e8-45de-9230-7722f07d618d",
   "metadata": {},
   "source": [
    "## Your first python program\n",
    "\n",
    "Let's write your first Python Program. As is traditional, the first program will do nothing other than greet the world of programming, by displaying the words “Hello World!”. So let's see how that looks:"
   ]
  },
  {
   "cell_type": "code",
   "execution_count": 1,
   "id": "d4aee15b-2411-40d6-9f52-1f97fe8c7d8f",
   "metadata": {},
   "outputs": [
    {
     "name": "stdout",
     "output_type": "stream",
     "text": [
      "Hello World!\n"
     ]
    }
   ],
   "source": [
    "print(\"Hello World!\")"
   ]
  },
  {
   "cell_type": "markdown",
   "id": "6e00861e-69c9-4e6a-af8d-79b47f364ccd",
   "metadata": {},
   "source": [
    "Pretty simple right? Let's see what each thing does:\n",
    "- `print()` is a command that will print anything inside the parenthesis\n",
    "- `\"\"` indicates that whatever is inside these should be treated as plain text\n",
    "- `Hello World!` is the text to print\n",
    "\n",
    "Try writing this as well, and then running it by pressing the `F5` key on your keyboard. The words will appear in your Terminal, which is the main way to interact with python. This is where the output of your program will be displayed, but also one of the ways to interact with the program you write.\n"
   ]
  },
  {
   "cell_type": "markdown",
   "id": "9a19e384-eb0d-4519-a5de-74bb03ebc119",
   "metadata": {},
   "source": [
    "## Variables\n",
    "\n",
    "One key part of programming are Variables. Variables are containers able to store values, and those values can later be referenced.\n",
    "\n",
    "Think of a variable like a box that can fit one thing inside. You can put stuff in there, you can look at what's in there, and you can take the thing out and replace it with something else.\n",
    "\n",
    "You can declare a variable by giving it a name and then using the `=` sign:"
   ]
  },
  {
   "cell_type": "code",
   "execution_count": 2,
   "id": "bd3087b7-f90b-4954-b792-f6712fa4d4a6",
   "metadata": {},
   "outputs": [],
   "source": [
    "my_variable = \"this text is inside the variable\""
   ]
  },
  {
   "cell_type": "markdown",
   "id": "0726861d-b53a-495e-b62b-753eaf57ca24",
   "metadata": {},
   "source": [
    "Variables are useful because you can reference the thing that's inside them without knowing what it is"
   ]
  },
  {
   "cell_type": "code",
   "execution_count": 3,
   "id": "8edab08f-4eb1-4794-a99b-43bc4d8fb4ba",
   "metadata": {},
   "outputs": [
    {
     "name": "stdout",
     "output_type": "stream",
     "text": [
      "this text is inside the variable\n"
     ]
    }
   ],
   "source": [
    "print(my_variable)"
   ]
  },
  {
   "cell_type": "markdown",
   "id": "d9326fce-8160-43cd-913c-4635f18dc6b0",
   "metadata": {},
   "source": [
    "Notice that we didn't need to put the `my_variable` in `\"\"` quotes, because it's not the text we are printing, it's the name of the variable. If we did put it in quotes, this would be the result:"
   ]
  },
  {
   "cell_type": "code",
   "execution_count": 4,
   "id": "d61b6a90-49c7-4f8f-a75c-160bce829246",
   "metadata": {},
   "outputs": [
    {
     "name": "stdout",
     "output_type": "stream",
     "text": [
      "my_variable\n"
     ]
    }
   ],
   "source": [
    "print(\"my_variable\")"
   ]
  },
  {
   "cell_type": "markdown",
   "id": "413ffaa9-649b-4595-8e5d-957d4664f5de",
   "metadata": {},
   "source": [
    "Variables can be used in any place where you would write in a value. This can be for printing, for operations, or even for defining other variables"
   ]
  },
  {
   "cell_type": "code",
   "execution_count": 5,
   "id": "5af2afb1-c390-4834-8ea2-7ac685597fa9",
   "metadata": {
    "scrolled": true
   },
   "outputs": [
    {
     "name": "stdout",
     "output_type": "stream",
     "text": [
      "3\n"
     ]
    }
   ],
   "source": [
    "a = 1\n",
    "b = 2\n",
    "c = a + b\n",
    "print(c)"
   ]
  },
  {
   "cell_type": "markdown",
   "id": "464b3182-58dd-4c69-ba26-2a946e2afc4f",
   "metadata": {},
   "source": [
    "you can reassign variables later, changing what value they have inside"
   ]
  },
  {
   "cell_type": "code",
   "execution_count": 6,
   "id": "f67e1c54-3c49-4044-98dc-39c5442d5042",
   "metadata": {},
   "outputs": [
    {
     "name": "stdout",
     "output_type": "stream",
     "text": [
      "2\n"
     ]
    }
   ],
   "source": [
    "a = 1\n",
    "a = 2\n",
    "print(a)"
   ]
  },
  {
   "cell_type": "markdown",
   "id": "fb3bca61-2848-4a73-96e5-5b30c7d34959",
   "metadata": {},
   "source": [
    "Note that doing so doesn't change what they have already been used for"
   ]
  },
  {
   "cell_type": "code",
   "execution_count": 7,
   "id": "f6ca2389-c415-4ebc-944e-bd1218de6d61",
   "metadata": {},
   "outputs": [
    {
     "name": "stdout",
     "output_type": "stream",
     "text": [
      "4\n"
     ]
    }
   ],
   "source": [
    "a = 3\n",
    "b = a + 1\n",
    "a = 5\n",
    "print(b)"
   ]
  },
  {
   "cell_type": "markdown",
   "id": "c3513fa0-771a-4614-abad-463e9fe7d530",
   "metadata": {},
   "source": [
    "### Variable names\n",
    "\n",
    "Variable names are case sensitive. They can only include letters, numbers, and the underscore (`_`) character, and can only start with letters or the underscore. They also cannot be any of the python *keywords*\n",
    "\n",
    "Here are some legal variable names:"
   ]
  },
  {
   "cell_type": "markdown",
   "id": "fe580ed3-5736-478a-ab4e-93198f16f231",
   "metadata": {},
   "source": [
    "```\n",
    "myvar = \"Ermis\"\n",
    "my_var = \"Ermis\"\n",
    "_my_var = \"Ermis\"\n",
    "myVar = \"Ermis\"\n",
    "MYVAR = \"Ermis\"\n",
    "myvar2 = \"Ermis\"\n",
    "```"
   ]
  },
  {
   "cell_type": "markdown",
   "id": "aed9018a-bfd0-48d6-a377-73297ace7303",
   "metadata": {},
   "source": [
    "here are some <font color='red'>illegal</font> variable names:"
   ]
  },
  {
   "cell_type": "markdown",
   "id": "e51433f7-17fd-482f-989c-cd74dc3a15f3",
   "metadata": {},
   "source": [
    "```\n",
    "2myvar = \"Ermis\"\n",
    "my-var = \"Ermis\"\n",
    "my var = \"Ermis\"\n",
    "```"
   ]
  },
  {
   "cell_type": "markdown",
   "id": "0ef205fd-0221-4077-a03b-3db1a4821347",
   "metadata": {},
   "source": [
    "## Comments\n",
    "\n",
    "You can add comments to your code. Comments are pieces of text that the program will just ignore when you try to run it. The only reason they exist is to give you (and anybody else trying to read your code) an explanation of what is happening. \n",
    "\n",
    "To write a comment, use the `#` character."
   ]
  },
  {
   "cell_type": "code",
   "execution_count": 9,
   "id": "7dca49f9-cc4b-4444-ab4f-5f1975975397",
   "metadata": {},
   "outputs": [
    {
     "name": "stdout",
     "output_type": "stream",
     "text": [
      "27\n"
     ]
    }
   ],
   "source": [
    "my_favourite_number = 27\n",
    "# this text here is a comment and will not affect the code\n",
    "print(my_favourite_number) # you can even start a comment later in the code!"
   ]
  },
  {
   "cell_type": "markdown",
   "id": "8f6bd40b-1245-4870-948e-959bc46aa43d",
   "metadata": {},
   "source": [
    "## Data types\n",
    "\n",
    "Data in python can come in many different forms. You may have noticed so far that we've used two different types: We've set variables as numbers, and we've set variables with quotes as text. These are different <font color='green'> data types </font>. \n",
    "\n",
    "A program knows how to use the data that it has because of the data type. For example, if we say"
   ]
  },
  {
   "cell_type": "code",
   "execution_count": 10,
   "id": "a1b58f16-c58b-457b-bf36-fba12ab8cbf7",
   "metadata": {},
   "outputs": [
    {
     "name": "stdout",
     "output_type": "stream",
     "text": [
      "5\n",
      "hello there\n"
     ]
    }
   ],
   "source": [
    "print(1+4)\n",
    "print(\"hello \" + \"there\")"
   ]
  },
  {
   "cell_type": "markdown",
   "id": "4d3f23ec-4a9c-44b0-b42c-76d81e879f62",
   "metadata": {},
   "source": [
    "The program knows how to perform the addition because they are treated as numbers. On the other hand, since we used the `\"\"` quotes, it knows that the words underneath are text, therefore the `+` symbol means “place these two next to each other”.\n",
    "\n",
    "There are many (15) data types built into python, but for now let's look at four basic ones:\n",
    "- **Integers** (`int`) are whole entire numbers. Numbers like `1`, `13`, `148`, `-4` are all integers. Python will interpret any number that doesn't have a `.` symbol to be an integer.\n",
    "- **Floats** (`float`) are numbers that aren't necessarily whole. `1.5`, `-0.33`, or `4.0` are all floats. Python will interpret any number that is separated by `.` at some point as a float, even if the number is whole\n",
    "- **Strings** (`str`) are series of letters. They can include any number of characters in them. Python will interpret anything between `\"\"` *or* `''` quotes as a string.\n",
    "- **Booleans** (`bool`) can take one of two values: `True` or `False`. They are used to create yes/no situations. To set a variable as a boolean we can either write `True` or `False`, or give a conditional statement (for example `a > b`, but we'll learn more about these later).\n",
    "\n",
    "### Casting\n",
    "Things won't always work if you use the wrong data type."
   ]
  },
  {
   "cell_type": "code",
   "execution_count": 11,
   "id": "49c2769e-1851-48f3-aebc-b7cfdef6f590",
   "metadata": {},
   "outputs": [
    {
     "ename": "TypeError",
     "evalue": "can only concatenate str (not \"int\") to str",
     "output_type": "error",
     "traceback": [
      "\u001b[31m---------------------------------------------------------------------------\u001b[39m",
      "\u001b[31mTypeError\u001b[39m                                 Traceback (most recent call last)",
      "\u001b[36mCell\u001b[39m\u001b[36m \u001b[39m\u001b[32mIn[11]\u001b[39m\u001b[32m, line 1\u001b[39m\n\u001b[32m----> \u001b[39m\u001b[32m1\u001b[39m \u001b[38;5;28mprint\u001b[39m(\u001b[33;43m\"\u001b[39;49m\u001b[33;43mmy number is \u001b[39;49m\u001b[33;43m\"\u001b[39;49m\u001b[43m \u001b[49m\u001b[43m+\u001b[49m\u001b[43m \u001b[49m\u001b[32;43m3\u001b[39;49m)\n",
      "\u001b[31mTypeError\u001b[39m: can only concatenate str (not \"int\") to str"
     ]
    }
   ],
   "source": [
    "print(\"my number is \" + 3)"
   ]
  },
  {
   "cell_type": "markdown",
   "id": "f836b38a-7226-458a-b4c8-0f1f29ee7320",
   "metadata": {},
   "source": [
    "Here python doesn't know how to handle addition between a String and an integer. For this to work, it should look like this:"
   ]
  },
  {
   "cell_type": "code",
   "execution_count": 12,
   "id": "7cb04ea0-8c72-42d4-b85f-9177ae3a4e54",
   "metadata": {},
   "outputs": [
    {
     "name": "stdout",
     "output_type": "stream",
     "text": [
      "my number is 27\n"
     ]
    }
   ],
   "source": [
    "print(\"my number is \" + \"27\")"
   ]
  },
  {
   "cell_type": "markdown",
   "id": "300889c0-bde7-422b-9771-be4ac57638c4",
   "metadata": {},
   "source": [
    "Now the number is not an integer but a string. But what if we already have that number and we want to change its type? This is possible and it's called casting:\n"
   ]
  },
  {
   "cell_type": "code",
   "execution_count": 13,
   "id": "1d879dfa-f8c2-4bf0-af6e-6e8efc8dcd99",
   "metadata": {},
   "outputs": [
    {
     "name": "stdout",
     "output_type": "stream",
     "text": [
      "my number is 27\n"
     ]
    }
   ],
   "source": [
    "print(\"my number is \" + str(27))"
   ]
  },
  {
   "cell_type": "markdown",
   "id": "8b90ed01-b7ba-4816-966b-ebd5bdcbe0d5",
   "metadata": {},
   "source": [
    "You may be asking, why would I do that? why not just add the quotes myself? Well, casting also works with variables!"
   ]
  },
  {
   "cell_type": "code",
   "execution_count": 14,
   "id": "80563249-791b-4d2b-a701-67d3569b9a90",
   "metadata": {},
   "outputs": [
    {
     "name": "stdout",
     "output_type": "stream",
     "text": [
      "my number is 27\n"
     ]
    }
   ],
   "source": [
    "my_number = 27 # the variable my_number is an int\n",
    "print(\"my number is \" + str(my_number))"
   ]
  },
  {
   "cell_type": "markdown",
   "id": "44da2e56-8b3b-4fda-87df-3bda586fe6a6",
   "metadata": {},
   "source": [
    "## Input\n",
    "\n",
    "There are a lot of ways to give information to your program, but possibly the simplest one of them all is `input()`. This function will display a question and wait for the user to write an answer, before continuing with the rest of the program."
   ]
  },
  {
   "cell_type": "code",
   "execution_count": null,
   "id": "68b574d6-6c58-4434-a774-5bd5ca3a4249",
   "metadata": {},
   "outputs": [],
   "source": [
    "my_answer = input(\"question? \") # the space at the end is so that there is a space between question and answer"
   ]
  },
  {
   "cell_type": "markdown",
   "id": "f3bd5505-8ba5-4c3c-9d2a-286ea309f87c",
   "metadata": {},
   "source": [
    "Now this value can be used later!"
   ]
  },
  {
   "cell_type": "code",
   "execution_count": null,
   "id": "4a43e2a4-34b4-4c48-a44f-5eea17dea3bc",
   "metadata": {},
   "outputs": [],
   "source": [
    "user_name = input(\"what is your name? \")\n",
    "print(\"hello, \" + user_name)"
   ]
  },
  {
   "cell_type": "markdown",
   "id": "15ca910e-50b6-4bfb-8523-32e17ff21eb8",
   "metadata": {},
   "source": [
    "<font color='red'> ⚠ NOTE </font> The type given from input will *always* be `str`. "
   ]
  },
  {
   "cell_type": "markdown",
   "id": "881185df-0a09-478f-8c80-7282770a2ec1",
   "metadata": {},
   "source": [
    "## Excersise:\n",
    "\n",
    "Write a program that asks the user for two numbers as inputs. Then print the sum of those numbers."
   ]
  }
 ],
 "metadata": {
  "kernelspec": {
   "display_name": "Python 3 (ipykernel)",
   "language": "python",
   "name": "python3"
  },
  "language_info": {
   "codemirror_mode": {
    "name": "ipython",
    "version": 3
   },
   "file_extension": ".py",
   "mimetype": "text/x-python",
   "name": "python",
   "nbconvert_exporter": "python",
   "pygments_lexer": "ipython3",
   "version": "3.12.3"
  }
 },
 "nbformat": 4,
 "nbformat_minor": 5
}
